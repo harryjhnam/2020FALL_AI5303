{
 "cells": [
  {
   "cell_type": "markdown",
   "metadata": {},
   "source": [
    "# PA2 - Structure from Motion\n",
    "---\n",
    "- 20204102 Juhyeon Nam (AI Graduate School)"
   ]
  },
  {
   "cell_type": "code",
   "execution_count": 1,
   "metadata": {},
   "outputs": [
    {
     "data": {
      "text/plain": [
       "'/home/njh/Desktop/CV2020/PA2/data_2_sfm'"
      ]
     },
     "execution_count": 1,
     "metadata": {},
     "output_type": "execute_result"
    }
   ],
   "source": [
    "import os\n",
    "DATASET_dir = os.path.join(os.getcwd(),'data_2_sfm')\n",
    "DATASET_dir"
   ]
  },
  {
   "cell_type": "code",
   "execution_count": 2,
   "metadata": {},
   "outputs": [
    {
     "data": {
      "text/plain": [
       "'4.4.0'"
      ]
     },
     "execution_count": 2,
     "metadata": {},
     "output_type": "execute_result"
    }
   ],
   "source": [
    "import cv2\n",
    "cv2.__version__"
   ]
  },
  {
   "cell_type": "markdown",
   "metadata": {},
   "source": [
    "## Correspondence Search, Relating Images\n",
    "---\n",
    "1. Extract SIFT from every image and find putative matches\n",
    "2. Reject outliers by RANSAC"
   ]
  },
  {
   "cell_type": "markdown",
   "metadata": {},
   "source": [
    "### 1. Extract SIFT from every image and find putative matches\n",
    "\n",
    "Since this step is same as the task 1 from PA1, I modified the `alignImages()` function from the PA1 with SIFT descriptor.\n",
    "\n",
    "Also, I referenced the code from [here](https://opencv-python-tutroals.readthedocs.io/en/latest/py_tutorials/py_feature2d/py_matcher/py_matcher.html)"
   ]
  },
  {
   "cell_type": "code",
   "execution_count": 5,
   "metadata": {},
   "outputs": [],
   "source": [
    "import matplotlib.pyplot as plt\n",
    "\n",
    "GOOD_MATCH_PERCENT = 0.7\n",
    "\n",
    "def SIFT_feature_matching(im1, im2):\n",
    "    \n",
    "    # Convert images to grayscale\n",
    "    im1Gray = cv2.cvtColor(im1, cv2.COLOR_BGR2GRAY)\n",
    "    im2Gray = cv2.cvtColor(im2, cv2.COLOR_BGR2GRAY)\n",
    "    \n",
    "    # Detect SIFT features and compute descriptors\n",
    "    sift = cv2.xfeatures2d.SIFT_create()\n",
    "    keypoints1, descriptors1 = sift.detectAndCompute(im1Gray, None)\n",
    "    keypoints2, descriptors2 = sift.detectAndCompute(im2Gray, None)\n",
    "    \n",
    "    # Match features\n",
    "    matcher  = cv2.BFMatcher()\n",
    "    matches = matcher.knnMatch(descriptors1, descriptors2, k=2)\n",
    "    \n",
    "    # Drop bad matches\n",
    "    good_matches = []\n",
    "    for m, n in matches:\n",
    "        if m.distance < GOOD_MATCH_PERCENT*n.distance:\n",
    "            good_matches.append([m])\n",
    "\n",
    "    # Draw top matches\n",
    "    imMatches = cv2.drawMatchesKnn(im1, keypoints1, im2, keypoints2, good_matches, None)\n",
    "    cv2.imwrite(\"matches.jpg\", imMatches)\n",
    "    \n",
    "    plt.figure(figsize=(16,8))\n",
    "    plt.suptitle('Feature matching')\n",
    "    plt.imshow(cv2.cvtColor(imMatches, cv2.COLOR_BGR2RGB))\n",
    "    \n",
    "    return keypoints1, keypoints2, good_matches"
   ]
  },
  {
   "cell_type": "code",
   "execution_count": null,
   "metadata": {},
   "outputs": [],
   "source": [
    "img1 = cv2.imread(os.path.join(DATASET_dir, 'sfm01.JPG'), cv2.IMREAD_COLOR)\n",
    "img2 = cv2.imread(os.path.join(DATASET_dir, 'sfm02.JPG'), cv2.IMREAD_COLOR)\n",
    "\n",
    "keypoints1, keypoints2, good_matches = SIFT_feature_matching(img1, img2)"
   ]
  },
  {
   "cell_type": "markdown",
   "metadata": {},
   "source": [
    "### 2. Estimating essential matrix with RANSAC"
   ]
  },
  {
   "cell_type": "code",
   "execution_count": 2,
   "metadata": {},
   "outputs": [
    {
     "ename": "ModuleNotFoundError",
     "evalue": "No module named 'pylab'",
     "output_type": "error",
     "traceback": [
      "\u001b[0;31m---------------------------------------------------------------------------\u001b[0m",
      "\u001b[0;31mModuleNotFoundError\u001b[0m                       Traceback (most recent call last)",
      "\u001b[0;32m<ipython-input-2-2b767db7d495>\u001b[0m in \u001b[0;36m<module>\u001b[0;34m\u001b[0m\n\u001b[1;32m      2\u001b[0m \u001b[0;31m# keypoints2[good_matches[0][0].imgIdx].pt\u001b[0m\u001b[0;34m\u001b[0m\u001b[0;34m\u001b[0m\u001b[0;34m\u001b[0m\u001b[0m\n\u001b[1;32m      3\u001b[0m \u001b[0;34m\u001b[0m\u001b[0m\n\u001b[0;32m----> 4\u001b[0;31m \u001b[0;32mimport\u001b[0m \u001b[0mmatlab\u001b[0m\u001b[0;34m.\u001b[0m\u001b[0mengine\u001b[0m\u001b[0;34m\u001b[0m\u001b[0;34m\u001b[0m\u001b[0m\n\u001b[0m",
      "\u001b[0;32m/usr/local/lib/python3.6/dist-packages/matlab.py\u001b[0m in \u001b[0;36m<module>\u001b[0;34m\u001b[0m\n\u001b[1;32m      1\u001b[0m \u001b[0;32mfrom\u001b[0m \u001b[0mnumpy\u001b[0m \u001b[0;32mimport\u001b[0m \u001b[0;34m*\u001b[0m\u001b[0;34m\u001b[0m\u001b[0;34m\u001b[0m\u001b[0m\n\u001b[0;32m----> 2\u001b[0;31m \u001b[0;32mfrom\u001b[0m \u001b[0mpylab\u001b[0m \u001b[0;32mimport\u001b[0m \u001b[0;34m*\u001b[0m\u001b[0;34m\u001b[0m\u001b[0;34m\u001b[0m\u001b[0m\n\u001b[0m",
      "\u001b[0;31mModuleNotFoundError\u001b[0m: No module named 'pylab'"
     ]
    }
   ],
   "source": [
    "# keypoints1[good_matches[0][0].queryIdx].pt\n",
    "# keypoints2[good_matches[0][0].imgIdx].pt\n",
    "\n",
    "import matlab.engine"
   ]
  },
  {
   "cell_type": "markdown",
   "metadata": {},
   "source": [
    "## Initialization Step\n",
    "---\n",
    "3. Estimate motion (R and T)\n",
    "4. Reconstruct 3D points for the selected image pair(Triangulation)"
   ]
  },
  {
   "cell_type": "code",
   "execution_count": null,
   "metadata": {},
   "outputs": [],
   "source": []
  }
 ],
 "metadata": {
  "kernelspec": {
   "display_name": "Python 3.6.9 64-bit",
   "language": "python",
   "name": "python36964bit25b9a0b0103c44b6a76f0c320496841d"
  },
  "language_info": {
   "codemirror_mode": {
    "name": "ipython",
    "version": 3
   },
   "file_extension": ".py",
   "mimetype": "text/x-python",
   "name": "python",
   "nbconvert_exporter": "python",
   "pygments_lexer": "ipython3",
   "version": "3.6.9"
  }
 },
 "nbformat": 4,
 "nbformat_minor": 4
}
